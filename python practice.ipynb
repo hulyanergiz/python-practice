{
 "cells": [
  {
   "cell_type": "code",
   "execution_count": 1,
   "id": "14c310d8-67f1-43b4-8120-7bb9027195e9",
   "metadata": {},
   "outputs": [],
   "source": [
    "#Minimum Euclidean Distance "
   ]
  },
  {
   "cell_type": "code",
   "execution_count": 10,
   "id": "0e7c5223-50ed-4cb0-aabd-efa91a087f8c",
   "metadata": {},
   "outputs": [
    {
     "name": "stdout",
     "output_type": "stream",
     "text": [
      "1.4142135623730951\n"
     ]
    }
   ],
   "source": [
    "points=[(1,3),(2,5),(3,7),(4,4),(5,1),(6,7),(2,8)]\n",
    "distances=[]\n",
    "\n",
    "def euclideanDistance(coord1,coord2):\n",
    "    return pow(pow(coord1[0]-coord2[0],2)+pow(coord1[1]-coord2[1],2),0.5)\n",
    "\n",
    "for i in range(len(points)-1):\n",
    "    for j in range(i+1,len(points)):\n",
    "        distances.append(euclideanDistance(points[i],points[j]))\n",
    "\n",
    "print(min(distances))"
   ]
  }
 ],
 "metadata": {
  "kernelspec": {
   "display_name": "Python 3 (ipykernel)",
   "language": "python",
   "name": "python3"
  },
  "language_info": {
   "codemirror_mode": {
    "name": "ipython",
    "version": 3
   },
   "file_extension": ".py",
   "mimetype": "text/x-python",
   "name": "python",
   "nbconvert_exporter": "python",
   "pygments_lexer": "ipython3",
   "version": "3.11.7"
  }
 },
 "nbformat": 4,
 "nbformat_minor": 5
}
